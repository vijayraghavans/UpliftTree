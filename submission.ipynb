{
 "cells": [
  {
   "cell_type": "code",
   "metadata": {
    "cell_id": "b840dc1c-562c-4cb2-89e1-350cfb2968f3",
    "deepnote_to_be_reexecuted": false,
    "source_hash": "b7dcc9c8",
    "execution_start": 1656097810786,
    "execution_millis": 1,
    "deepnote_cell_type": "code",
    "deepnote_cell_height": 99
   },
   "source": "import numpy as np\nimport pandas as pd",
   "execution_count": 1,
   "outputs": []
  },
  {
   "cell_type": "code",
   "metadata": {
    "cell_id": "00002-a21dec48-458f-4741-a5a2-ceffc13b907f",
    "deepnote_to_be_reexecuted": false,
    "source_hash": "9ee90a3f",
    "execution_start": 1656097810787,
    "execution_millis": 1,
    "deepnote_cell_type": "code",
    "deepnote_cell_height": 243
   },
   "source": "class Node:\n    def __init__(self, nodeType=None, depth=None, n_items=None, ate=None, split_feat=None, split_threshold=None):        \n        self.nodeType=nodeType\n        self.depth=depth\n        self.n_items=n_items\n        self.ate=ate\n        self.split_feat=split_feat\n        self.split_threshold=split_threshold\n        self.leftNode=None\n        self.rightNode=None",
   "execution_count": 2,
   "outputs": []
  },
  {
   "cell_type": "code",
   "metadata": {
    "cell_id": "00003-05d7ee8b-d080-492f-af7f-32875df5cf79",
    "deepnote_to_be_reexecuted": false,
    "source_hash": "d45be946",
    "execution_start": 1656097810864,
    "execution_millis": 0,
    "deepnote_cell_type": "code",
    "deepnote_cell_height": 297
   },
   "source": "class NodeData:\n    def __init__(self, features=None,treatment=None, target=None):\n        self.features=features\n        self.treatment=treatment\n        self.length_treatment=len([x for x in treatment if x == 1])\n        self.target=target        \n        self.items=len(target)        \n        self.control=(treatment-1)*(-1) \n        self.length_control=len([x for x in self.control if x == 1])\n        avgTreatment = sum(np.multiply(treatment, target))/self.length_treatment\n        avgControl = sum(np.multiply(self.control, target))/self.length_control\n        self.M=(avgTreatment-avgControl)       \n        self.ate=sum(np.multiply(target,treatment))/self.items",
   "execution_count": 3,
   "outputs": []
  },
  {
   "cell_type": "code",
   "metadata": {
    "cell_id": "00004-62965ad3-06d1-4238-bf0d-6d4434f0f3d0",
    "deepnote_to_be_reexecuted": false,
    "source_hash": "be63931e",
    "execution_start": 1656097810864,
    "execution_millis": 1,
    "deepnote_cell_type": "code",
    "deepnote_cell_height": 189
   },
   "source": "class Split:\n    def __init__(self, left:NodeData=None, right:NodeData=None, deltaDeltaP=None, split_threshold=None, split_feat=None):\n        self.left=left\n        self.right=right\n        self.deltaDeltaP=deltaDeltaP\n        self.split_threshold=split_threshold\n        self.split_feat=split_feat",
   "execution_count": 4,
   "outputs": []
  },
  {
   "cell_type": "code",
   "metadata": {
    "cell_id": "00005-87fd744d-df27-4642-9c67-3e6aec1f4cf1",
    "deepnote_to_be_reexecuted": false,
    "source_hash": "44d5080d",
    "execution_start": 1656097810865,
    "execution_millis": 0,
    "deepnote_cell_type": "code",
    "deepnote_cell_height": 207
   },
   "source": "def getThresholdValues(column_values):\n    unique_values = np.unique(column_values)\n    if len(unique_values) >10:\n        percentiles = np.percentile(column_values, [3, 5, 10, 20, 30, 50, 70, 80, 90, 95, 97])\n    else:\n        percentiles = np.percentile(unique_values, [10, 50, 90])\n    threshold_options = np.unique(percentiles)\n    return threshold_options",
   "execution_count": 5,
   "outputs": []
  },
  {
   "cell_type": "code",
   "metadata": {
    "cell_id": "00006-6315c27c-9d29-4f1a-a20b-0bd3a8109bab",
    "deepnote_to_be_reexecuted": false,
    "source_hash": "88d05181",
    "execution_start": 1656097810865,
    "execution_millis": 1,
    "deepnote_cell_type": "code",
    "deepnote_cell_height": 585
   },
   "source": "def makesplit(features,treatment, perValue,target,treat,index):\n    leftData = []\n    rightData  = []\n    leftTreatment = []\n    rightTreatment = []\n    leftTarget = []\n    rightTarget = []\n\n    feat=features[:,index]\n    for i in range(len(feat)):\n        if feat[i] <=  perValue:\n            leftData.append(features[i])\n            leftTreatment.append(treatment[i])\n            leftTarget.append(target[i])\n        else:\n            rightData.append(features[i])\n            rightTreatment.append(treatment[i])\n            rightTarget.append(target[i])\n\n    leftData = np.array(leftData)\n    rightData  = np.array(rightData)\n    leftTreatment = np.array(leftTreatment)\n    rightTreatment = np.array(rightTreatment)\n    leftTarget = np.array(leftTarget)\n    rightTarget = np.array(rightTarget)\n    \n    leftNodeData=NodeData(leftData,leftTreatment,leftTarget)\n    rightNodeData=NodeData(rightData,rightTreatment,rightTarget)\n    return leftNodeData,rightNodeData",
   "execution_count": 6,
   "outputs": []
  },
  {
   "cell_type": "code",
   "metadata": {
    "cell_id": "00010-bcbb1684-acaf-4596-8220-43a17ef4df11",
    "deepnote_to_be_reexecuted": false,
    "source_hash": "76913438",
    "execution_start": 1656097810866,
    "execution_millis": 0,
    "deepnote_cell_type": "code",
    "deepnote_cell_height": 675
   },
   "source": "def numtostr(num):\n    converted_num = \"% s\" % num\n    return converted_num\n    \ndef retrunTabs(dd):\n    tabs=\"\"\n    for r in range(dd):\n        tabs+=\"\\t\"\n    return tabs\n\ndef writeNode(n:Node):\n    if n.nodeType == 'root':\n        ioType='w'\n    else:\n        ioType='a'\n    with open('NodeModel.txt', ioType) as f:\n        f.write(retrunTabs(n.depth))\n        f.write(\"Level \" + numtostr(n.depth) + \"\\n\")\n        f.write(retrunTabs(n.depth))\n        f.write(n.nodeType + \"\\n\")\n        f.write(retrunTabs(n.depth))\n        f.write(\"Number of items : \" + numtostr(n.n_items)+\"\\n\")\n        f.write(retrunTabs(n.depth))\n        f.write(\"ATE : \" + numtostr(n.ate)+\"\\n\")\n        f.write(retrunTabs(n.depth))\n        f.write(\"Split_Feature : \" + numtostr(n.split_feat)+\"\\n\")\n        f.write(retrunTabs(n.depth))\n        f.write(\"Split_Threshold : \" + numtostr(n.split_threshold)+\"\\n\\n\")\n    f.close()    \n    if(n.leftNode):\n        writeNode(n.leftNode)\n    if(n.rightNode):\n        writeNode(n.rightNode)\n",
   "execution_count": 7,
   "outputs": []
  },
  {
   "cell_type": "code",
   "source": "def checkModel(value, model:Node):\n    prediction=model.ate\n    if model.leftNode is not None or model.rightNode is not None:\n        prediction=0\n        featureCheck=model.split_feat\n        # print(model.split_threshold)\n        if value[featureCheck] <= model.split_threshold:\n            prediction=checkModel(value,model.leftNode)\n        elif value[featureCheck] > model.split_threshold:\n            prediction=checkModel(value,model.rightNode)\n    return prediction\n\ndef predictValues(valueArray:np.ndarray, nodeModel:Node):\n    predictions=[]\n    for value in valueArray:\n        p=checkModel(value,nodeModel)\n        predictions.append(p)\n    return predictions",
   "metadata": {
    "cell_id": "04ef2e23e61f4b2185fdf78a12af4279",
    "tags": [],
    "deepnote_to_be_reexecuted": false,
    "source_hash": "29a95bd3",
    "execution_start": 1656097810867,
    "execution_millis": 0,
    "deepnote_cell_type": "code",
    "deepnote_cell_height": 387,
    "deepnote_output_heights": [
     78.75
    ]
   },
   "outputs": [],
   "execution_count": 8
  },
  {
   "cell_type": "code",
   "source": "class UpliftTreeRegressor:\n    def __init__(self, Max_depth: int =3, Min_samples_leaf: int = 1000, Min_samples_leaf_treated: int = 300, Min_samples_leaf_control: int = 300):\n        self.Max_depth=Max_depth\n        self.Min_samples_leaf=Min_samples_leaf\n        self.Min_samples_leaf_treated=Min_samples_leaf_treated\n        self.Min_samples_leaf_control=Min_samples_leaf_control\n\n    def buildNode(self,node:Node, nodeData:NodeData):\n        if(node.depth<self.Max_depth):\n            splits= []\n            for colIndex in range(len(nodeData.features[0])):\n                # print(\"Feature:\",colIndex)\n                feature = nodeData.features[:,colIndex]\n                thresholds = getThresholdValues(feature)\n\n                for threshold in thresholds:\n                    # print(\"threshold:\",threshold)\n                    data_left, data_right=makesplit(nodeData.features,nodeData.treatment, threshold,nodeData.target,nodeData.treatment,colIndex)\n                    if data_left.items>=self.Min_samples_leaf and data_left.length_treatment>=self.Min_samples_leaf_treated and data_left.length_control>=self.Min_samples_leaf_control and data_right.items>=self.Min_samples_leaf and data_right.length_treatment>=self.Min_samples_leaf_treated and data_right.length_control>=self.Min_samples_leaf_control:\n                        deltaDeltaP=abs(data_left.M-data_right.M)\n                        splits.append(Split(data_left,data_right,deltaDeltaP,threshold,colIndex))\n\n            if len(splits) > 0:\n                bestSplit = max(splits,key=lambda x:x.deltaDeltaP)\n                node.nodeType = node.nodeType.replace(' <leaf>', '')\n                node.split_feat = bestSplit.split_feat\n                node.split_threshold = bestSplit.split_threshold\n                leftNode = Node(\"left <leaf>\",node.depth+1,bestSplit.left.items,bestSplit.left.ate)\n                rightNode = Node(\"right <leaf>\",node.depth+1,bestSplit.right.items,bestSplit.right.ate)\n                node.leftNode = leftNode\n                node.rightNode = rightNode   \n                \n                # print(node.nodeType)\n                bestSplit.left\n\n                self.buildNode(leftNode,bestSplit.left)    \n                self.buildNode(rightNode,bestSplit.right) \n\n    def fit(self, X: np.ndarray, Treatment: np.ndarray, Y: np.ndarray):\n        items=len(Y)\n        ate=sum(np.multiply(Y,Treatment))/items\n        self.rootNode=Node(\"root\",0,items,ate)\n        self.rootNodedata=NodeData(X,Treatment,Y)\n        \n        self.buildNode(self.rootNode,self.rootNodedata)        \n        writeNode(self.rootNode)\n\n    def predict(self, X: np.ndarray):\n        self.predictions=predictValues(X,self.rootNode)\n        np.save('predictions.npy', self.predictions)\n        return self.predictions",
   "metadata": {
    "cell_id": "289e452af3064c3e8c5d72be1db32fdb",
    "tags": [],
    "deepnote_to_be_reexecuted": false,
    "source_hash": "adcd2230",
    "execution_start": 1656097810867,
    "execution_millis": 1,
    "deepnote_cell_type": "code",
    "deepnote_cell_height": 981
   },
   "outputs": [],
   "execution_count": 9
  },
  {
   "cell_type": "code",
   "source": "givenArray=np.load(\"example_X.npy\",allow_pickle=True)\ngivenTarget=np.load(\"example_y.npy\")\ngivenTreatment=np.load(\"example_treatment.npy\")\nparam_dict = {\n    \"max_depth\":3,\n    \"min_samples_leaf\" : 6000,\n    \"min_samples_leaf_trated\":2500,\n    \"min_samples_leaf_control\":2500\n}\n\nupliftTree=UpliftTreeRegressor(param_dict[\"max_depth\"],param_dict[\"min_samples_leaf\"],param_dict[\"min_samples_leaf_trated\"],param_dict[\"min_samples_leaf_control\"])\n\nupliftTree.fit(givenArray,givenTreatment,givenTarget)\n\npredictions=upliftTree.predict(givenArray)",
   "metadata": {
    "cell_id": "80ca837e5d76411986c0c536adda48ac",
    "tags": [],
    "deepnote_to_be_reexecuted": false,
    "source_hash": "3a66bfb7",
    "execution_start": 1656097810868,
    "execution_millis": 14098,
    "owner_user_id": "b1f281cc-0c80-44e9-b82a-33710432a792",
    "deepnote_cell_type": "code",
    "deepnote_cell_height": 333,
    "deepnote_output_heights": [
     193.875
    ]
   },
   "outputs": [],
   "execution_count": 10
  },
  {
   "cell_type": "markdown",
   "source": "<a style='text-decoration:none;line-height:16px;display:flex;color:#5B5B62;padding:10px;justify-content:end;' href='https://deepnote.com?utm_source=created-in-deepnote-cell&projectId=b3720e3a-ad77-413f-a272-4451b7ea873f' target=\"_blank\">\n<img alt='Created in deepnote.com' style='display:inline;max-height:16px;margin:0px;margin-right:7.5px;' src='data:image/svg+xml;base64,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' > </img>\nCreated in <span style='font-weight:600;margin-left:4px;'>Deepnote</span></a>",
   "metadata": {
    "tags": [],
    "created_in_deepnote_cell": true,
    "deepnote_cell_type": "markdown"
   }
  }
 ],
 "nbformat": 4,
 "nbformat_minor": 2,
 "metadata": {
  "interpreter": {
   "hash": "59294b543e6aa73ac45a191d61974235da17f5b842940d6dd2fb0d82ee793d9c"
  },
  "kernelspec": {
   "display_name": "Python 3.9.5 ('base')",
   "language": "python",
   "name": "python3"
  },
  "language_info": {
   "codemirror_mode": {
    "name": "ipython",
    "version": 3
   },
   "file_extension": ".py",
   "mimetype": "text/x-python",
   "name": "python",
   "nbconvert_exporter": "python",
   "pygments_lexer": "ipython3",
   "version": "3.9.5"
  },
  "orig_nbformat": 4,
  "deepnote_notebook_id": "ca21e777-5c54-433a-a667-95910be7fe96",
  "deepnote": {},
  "deepnote_execution_queue": []
 }
}